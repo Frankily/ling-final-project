{
 "cells": [
  {
   "cell_type": "code",
   "execution_count": 32,
   "metadata": {},
   "outputs": [
    {
     "name": "stderr",
     "output_type": "stream",
     "text": [
      "Repo card metadata block was not found. Setting CardData to empty.\n"
     ]
    }
   ],
   "source": [
    "import nucle\n",
    "# Path to the file you want to process\n",
    "file_path_conll14st = 'release3.3/data/conll14st-preprocessed.m2'  # Update this with the correct path to your file\n",
    "file_path_bea2019 = 'release3.3/bea2019/nucle.train.gold.bea19.m2'\n",
    "file_path_test = 'benchmark_data/noalt/official-2014.0.m2'\n",
    "file_path_a1 = '10gec_annotations/A1.m2'\n",
    "file_path_a2 = '10gec_annotations/A2.m2'\n",
    "file_path_a3 = '10gec_annotations/A3.m2'\n",
    "file_path_a4 = '10gec_annotations/A4.m2'\n",
    "file_path_a5 = '10gec_annotations/A5.m2'\n",
    "file_path_a6 = '10gec_annotations/A6.m2'\n",
    "file_path_a7 = '10gec_annotations/A7.m2'\n",
    "file_path_a8 = '10gec_annotations/A8.m2'\n",
    "file_path_a9 = '10gec_annotations/A9.m2'\n",
    "file_path_a10 = '10gec_annotations/A10.m2'\n",
    "\n",
    "# Generate examples from the file\n",
    "nuc = nucle.NUCLE()\n",
    "examples_conll14st = list(nuc._generate_examples(file_path_conll14st))\n",
    "examples_bea2019 = list(nuc._generate_examples(file_path_bea2019))\n",
    "examples_test = list(nuc._generate_examples(file_path_test))\n",
    "examples_a1 = list(nuc._generate_examples(file_path_a1))\n",
    "examples_a2 = list(nuc._generate_examples(file_path_a2))\n",
    "examples_a3 = list(nuc._generate_examples(file_path_a3))\n",
    "examples_a4 = list(nuc._generate_examples(file_path_a4))\n",
    "examples_a5 = list(nuc._generate_examples(file_path_a5))\n",
    "examples_a6 = list(nuc._generate_examples(file_path_a6))\n",
    "examples_a7 = list(nuc._generate_examples(file_path_a7))\n",
    "examples_a8 = list(nuc._generate_examples(file_path_a8))\n",
    "examples_a9 = list(nuc._generate_examples(file_path_a9))\n",
    "examples_a10 = list(nuc._generate_examples(file_path_a10))"
   ]
  },
  {
   "cell_type": "code",
   "execution_count": 33,
   "metadata": {},
   "outputs": [
    {
     "name": "stdout",
     "output_type": "stream",
     "text": [
      "Molten-Salt-Reactor Technology Gaps(p.4) Retrieved October 13, 2009 from Proceedings of ICAPP '06, Reno, NV USA, Paper 6295\n"
     ]
    }
   ],
   "source": [
    "import re\n",
    "\n",
    "import re\n",
    "\n",
    "def detokenize(tokens):\n",
    "    sentence = \"\"\n",
    "    open_double_quote = True\n",
    "    open_single_quote = True\n",
    "    no_space_tokens = [\"'s\", \"n't\", \"'S\", \"'m\", \"'ll\", \"'ve\", \"'d\", \"'re\", \"--\", \".-\", \"%\"]\n",
    "    prev_no_space_tokens = [\"'\", \"$\", \"-\", \"'\", '\"', ' ', '£', '(', '[', \"{\"]\n",
    "    \n",
    "    for token in tokens:\n",
    "        if token[-1] == '\"' and token != '\"':\n",
    "            open_double_quote = not open_double_quote\n",
    "        if token[-1] == \"'\" and token != \"'\":\n",
    "            open_single_quote = not open_single_quote\n",
    "        if token == '\"':\n",
    "            if open_double_quote:\n",
    "                sentence += ' \"' if sentence and not sentence[-1].isspace() else '\"'\n",
    "                open_double_quote = False\n",
    "            else:\n",
    "                sentence = sentence.rstrip() + '\" '\n",
    "                open_double_quote = True\n",
    "        elif token == \"'\":         \n",
    "            if open_single_quote:\n",
    "                sentence += \" '\" if sentence and not sentence[-1].isspace() else \"'\"\n",
    "                open_single_quote = False\n",
    "            else:\n",
    "                sentence = sentence.rstrip() + \"' \"\n",
    "                open_single_quote = True\n",
    "        elif token in {\".\", \",\", \"!\", \"?\", \":\", \";\", \"-\"}:\n",
    "            if sentence and sentence[-1] == ' ':\n",
    "                sentence = sentence[:-1]\n",
    "            sentence += token\n",
    "        elif token in {\")\", \"]\", \"}\"}:\n",
    "            sentence = sentence.rstrip() + token\n",
    "        elif token in {\"(\", \"[\", \"{\"}:\n",
    "            sentence += token\n",
    "        elif token not in no_space_tokens and token[0] == \"'\" and not (len(token) == 3 and token[1:].isdigit()):\n",
    "            if open_single_quote:\n",
    "                sentence += \" \"\n",
    "                sentence += token\n",
    "                open_single_quote = False\n",
    "            else:\n",
    "                sentence += token[0] + ' ' + token[0:]\n",
    "                open_single_quote = True\n",
    "        elif token not in no_space_tokens and token[0] == \".\":\n",
    "            sentence += token[0] + ' ' + token[0:]\n",
    "        elif token not in no_space_tokens and token[0] == \",\":\n",
    "            sentence += token[0] + ' ' + token[0:]\n",
    "        else:\n",
    "            if sentence and sentence[-1] not in prev_no_space_tokens and token not in no_space_tokens:\n",
    "                sentence += \" \"\n",
    "            sentence += token\n",
    "    return sentence\n",
    "\n",
    "# Example usage\n",
    "tokens = ['Molten-Salt-Reactor', 'Technology', 'Gaps', '(', 'p.4', ')', 'Retrieved', 'October', '13', ',', '2009', 'from', 'Proceedings', 'of', 'ICAPP', \"'06\", ',', 'Reno', ',', 'NV', 'USA', ',', 'Paper', '6295']\n",
    "sentence = detokenize(tokens)\n",
    "print(sentence)"
   ]
  },
  {
   "cell_type": "code",
   "execution_count": 35,
   "metadata": {},
   "outputs": [],
   "source": [
    "import pandas as pd\n",
    "all_ds = [examples_conll14st, examples_bea2019, examples_test, examples_a1, examples_a2, examples_a3, examples_a4, examples_a5, examples_a6, examples_a7, examples_a8, examples_a9, examples_a10]\n",
    "all_names = [\"examples_conll14st\", \"examples_bea2019\", \"examples_test\", \"examples_a1\", \"examples_a2\", \"examples_a3\", \"examples_a4\", \"examples_a5\", \"examples_a6\", \"examples_a7\", \"examples_a8\", \"examples_a9\", \"examples_a10\"]\n",
    "tokens = set()\n",
    "for ds, name in zip(all_ds, all_names):\n",
    "    before_statements = []\n",
    "    after_statements = []\n",
    "    corrections = []\n",
    "    for indexed_example in ds:\n",
    "        example = indexed_example[1]\n",
    "        before = example['src_tokens']\n",
    "        after = example['tgt_tokens']\n",
    "        correct = example['corrections']\n",
    "        before_statements.append(detokenize(before))\n",
    "        after_statements.append(detokenize(after))\n",
    "        corrections.append(correct)\n",
    "    data = {\n",
    "        \"Before Statements\": before_statements,\n",
    "        \"After Statements\": after_statements,\n",
    "        \"Error Correction\": corrections\n",
    "    }\n",
    "    df = pd.DataFrame(data)\n",
    "    df.to_csv(f\"{name}.csv\", index = False)"
   ]
  },
  {
   "cell_type": "code",
   "execution_count": null,
   "metadata": {},
   "outputs": [],
   "source": []
  }
 ],
 "metadata": {
  "kernelspec": {
   "display_name": "final_env",
   "language": "python",
   "name": "python3"
  },
  "language_info": {
   "codemirror_mode": {
    "name": "ipython",
    "version": 3
   },
   "file_extension": ".py",
   "mimetype": "text/x-python",
   "name": "python",
   "nbconvert_exporter": "python",
   "pygments_lexer": "ipython3",
   "version": "3.12.4"
  }
 },
 "nbformat": 4,
 "nbformat_minor": 2
}
