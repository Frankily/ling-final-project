{
 "cells": [
  {
   "cell_type": "code",
   "execution_count": 31,
   "metadata": {},
   "outputs": [],
   "source": [
    "import pandas as pd"
   ]
  },
  {
   "cell_type": "code",
   "execution_count": 32,
   "metadata": {},
   "outputs": [],
   "source": [
    "df = pd.read_csv(\"generated_outputs/base_prompt.csv\")"
   ]
  },
  {
   "cell_type": "code",
   "execution_count": 33,
   "metadata": {},
   "outputs": [
    {
     "data": {
      "text/plain": [
       "Index(['Before Statements', 'After Statements', 'Error Correction',\n",
       "       'Generated Statements'],\n",
       "      dtype='object')"
      ]
     },
     "execution_count": 33,
     "metadata": {},
     "output_type": "execute_result"
    }
   ],
   "source": [
    "df.columns"
   ]
  },
  {
   "cell_type": "code",
   "execution_count": 34,
   "metadata": {},
   "outputs": [
    {
     "name": "stderr",
     "output_type": "stream",
     "text": [
      "/var/folders/j6/0dk5bfq56wb9s0c2ht22_9rc0000gn/T/ipykernel_76844/3550985780.py:5: FutureWarning: Series.__getitem__ treating keys as positions is deprecated. In a future version, integer keys will always be treated as labels (consistent with DataFrame behavior). To access a value by position, use `ser.iloc[pos]`\n",
      "  generated = row[3]\n"
     ]
    }
   ],
   "source": [
    "import spacy\n",
    "nlp = spacy.load(\"en_core_web_sm\")\n",
    "tokenized_statements = []\n",
    "for i, row in df.iterrows():\n",
    "    generated = row[3]\n",
    "    # print(generated)\n",
    "    # if i > 25:\n",
    "    #     break\n",
    "    doc = nlp(generated)\n",
    "    tokens = [token.text for token in doc]\n",
    "    tokenized = ' '.join(tokens)\n",
    "    tokenized_statements.append(tokenized)\n"
   ]
  },
  {
   "cell_type": "code",
   "execution_count": 16,
   "metadata": {},
   "outputs": [],
   "source": [
    "df['Tokenized Statements'] = tokenized_statements"
   ]
  },
  {
   "cell_type": "code",
   "execution_count": 17,
   "metadata": {},
   "outputs": [],
   "source": [
    "df.to_csv('generated_outputs/base_prompt.csv', index = False)"
   ]
  },
  {
   "cell_type": "code",
   "execution_count": 11,
   "metadata": {},
   "outputs": [
    {
     "name": "stdout",
     "output_type": "stream",
     "text": [
      "Lines starting with 'S' have been extracted to official_output.txt\n"
     ]
    }
   ],
   "source": [
    "input_file = \"benchmark_data/noalt/official-2014.combined.m2\"\n",
    "output_file = \"official_output.txt\"\n",
    "\n",
    "with open(input_file, 'r') as infile, open(output_file, 'w') as outfile:\n",
    "    for line in infile:\n",
    "        if line.startswith(\"S \"):\n",
    "            clean_line = line[2:].strip()\n",
    "            outfile.write(clean_line + '\\n')\n",
    "print(f\"Lines starting with 'S' have been extracted to {output_file}\")"
   ]
  },
  {
   "cell_type": "code",
   "execution_count": 12,
   "metadata": {},
   "outputs": [
    {
     "name": "stderr",
     "output_type": "stream",
     "text": [
      "/var/folders/j6/0dk5bfq56wb9s0c2ht22_9rc0000gn/T/ipykernel_26875/4084675075.py:4: FutureWarning: Series.__getitem__ treating keys as positions is deprecated. In a future version, integer keys will always be treated as labels (consistent with DataFrame behavior). To access a value by position, use `ser.iloc[pos]`\n",
      "  tokenized = row[4]\n"
     ]
    }
   ],
   "source": [
    "output_file = \"generated_output.txt\"\n",
    "df = pd.read_csv('finetuned_model_test_2.csv')\n",
    "for i, row in df.iterrows():\n",
    "    tokenized = row[4]\n",
    "    with open(output_file, 'a') as file:\n",
    "        file.write(tokenized.strip() + '\\n')\n"
   ]
  },
  {
   "cell_type": "code",
   "execution_count": 35,
   "metadata": {},
   "outputs": [],
   "source": [
    "output_file = \"evaluate_files/base_prompt.txt\"\n",
    "for tokenized in tokenized_statements:\n",
    "    with open(output_file, 'a') as file:\n",
    "        file.write(tokenized.strip() + '\\n')"
   ]
  },
  {
   "cell_type": "code",
   "execution_count": 2,
   "metadata": {},
   "outputs": [
    {
     "name": "stdout",
     "output_type": "stream",
     "text": [
      "['The', 'quick', 'brown', 'fox', 'jumps', 'over', 'the', 'lazy', 'dog.', 'Do', \"n't\", 'be', 'late', '!']\n"
     ]
    }
   ],
   "source": [
    "from nltk.tokenize import TreebankWordTokenizer\n",
    "\n",
    "\n",
    "text = \"The quick brown fox jumps over the lazy dog. Don't be late!\"\n",
    "\n",
    "tokenizer = TreebankWordTokenizer()\n",
    "\n",
    "tokens = tokenizer.tokenize(text)\n",
    "\n",
    "\n",
    "\n",
    "print(tokens) \n",
    "\n",
    "# Output: ['The', 'quick', 'brown', 'fox', 'jumps', 'over', 'the', 'lazy', 'dog', '.', 'Do', \"n't\", 'be', 'late', '!']\n"
   ]
  },
  {
   "cell_type": "code",
   "execution_count": 3,
   "metadata": {},
   "outputs": [
    {
     "name": "stdout",
     "output_type": "stream",
     "text": [
      "I can't go to the park.\n"
     ]
    }
   ],
   "source": [
    "import nltk\n",
    "from nltk.tokenize import TreebankWordTokenizer, TreebankWordDetokenizer\n",
    "\n",
    "# Example tokenized sentence\n",
    "tokens = ['I', 'ca', \"n't\", 'go', 'to', 'the', 'park', '.']\n",
    "\n",
    "# Initialize the detokenizer\n",
    "detokenizer = TreebankWordDetokenizer()\n",
    "\n",
    "# Convert tokens back to the sentence\n",
    "sentence = detokenizer.detokenize(tokens)\n",
    "print(sentence)"
   ]
  },
  {
   "cell_type": "code",
   "execution_count": null,
   "metadata": {},
   "outputs": [],
   "source": []
  }
 ],
 "metadata": {
  "kernelspec": {
   "display_name": "final_env",
   "language": "python",
   "name": "python3"
  },
  "language_info": {
   "codemirror_mode": {
    "name": "ipython",
    "version": 3
   },
   "file_extension": ".py",
   "mimetype": "text/x-python",
   "name": "python",
   "nbconvert_exporter": "python",
   "pygments_lexer": "ipython3",
   "version": "3.12.4"
  }
 },
 "nbformat": 4,
 "nbformat_minor": 2
}
