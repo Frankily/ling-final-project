{
 "cells": [
  {
   "cell_type": "code",
   "execution_count": 1,
   "metadata": {},
   "outputs": [
    {
     "name": "stderr",
     "output_type": "stream",
     "text": [
      "/Users/frankli/miniconda3/envs/final_env/lib/python3.12/site-packages/tqdm/auto.py:21: TqdmWarning: IProgress not found. Please update jupyter and ipywidgets. See https://ipywidgets.readthedocs.io/en/stable/user_install.html\n",
      "  from .autonotebook import tqdm as notebook_tqdm\n"
     ]
    }
   ],
   "source": [
    "import nucle\n",
    "# Path to the file you want to process\n",
    "file_path_a3 = 'ABC.train.gold.bea19.m2'\n",
    "file_path_a4 = 'ABCN.dev.gold.bea19.m2'\n",
    "\n",
    "# Generate examples from the file\n",
    "nuc = nucle.NUCLE()\n",
    "examples_a3 = list(nuc._generate_examples(file_path_a3))\n",
    "examples_a4 = list(nuc._generate_examples(file_path_a4))"
   ]
  },
  {
   "cell_type": "code",
   "execution_count": 9,
   "metadata": {},
   "outputs": [
    {
     "name": "stdout",
     "output_type": "stream",
     "text": [
      "Yesterday, I had a wonderful day. In the morning I went to a Galician basketball training with a coach of Spanish selection, when finished went to my parents to a hotel to eat and stay with some friends, after the food meet with friend's of my parents and went to a theme park and we rode to a rollers coaster, it was very exciting and we ate a chocolate ice cream, it was delicious. At night we went to a match of Spanish basketball league, Obradoiro versus Real Madrid and that match won the team of Real Madrid and then I went home to sleep.\n"
     ]
    }
   ],
   "source": [
    "import re\n",
    "\n",
    "def detokenize(tokens):\n",
    "    sentence = \"\"\n",
    "    open_double_quote = True\n",
    "    open_single_quote = True\n",
    "    no_space_tokens = [\"'s\", \"n't\", \"'S\", \"'m\", \"'ll\", \"'ve\", \"'d\", \"'re\", \"--\", \".-\", \"%\"]\n",
    "    prev_no_space_tokens = [\"'\", \"$\", \"-\", '\"', ' ', '£', '(', '[', \"{\"]\n",
    "    \n",
    "    for token in tokens:\n",
    "        # Handle quotes\n",
    "        if token == '\"':\n",
    "            if open_double_quote:\n",
    "                sentence += ' \"' if sentence and not sentence[-1].isspace() else '\"'\n",
    "                open_double_quote = False\n",
    "            else:\n",
    "                sentence = sentence.rstrip() + '\"'\n",
    "                open_double_quote = True\n",
    "        elif token == \"'\":\n",
    "            if open_single_quote:\n",
    "                sentence += \" '\" if sentence and not sentence[-1].isspace() else \"'\"\n",
    "                open_single_quote = False\n",
    "            else:\n",
    "                sentence = sentence.rstrip() + \"'\"\n",
    "                open_single_quote = True\n",
    "        # Handle punctuation marks\n",
    "        elif token in {\".\", \",\", \"!\", \"?\", \":\", \";\", \"-\"}:\n",
    "            sentence = sentence.rstrip() + token\n",
    "        # Handle closing brackets\n",
    "        elif token in {\")\", \"]\", \"}\"}:\n",
    "            sentence = sentence.rstrip() + token\n",
    "        # Handle opening brackets\n",
    "        elif token in {\"(\", \"[\", \"{\"}:\n",
    "            sentence += token\n",
    "        # Handle special cases for contractions and possessives\n",
    "        elif token in no_space_tokens:\n",
    "            sentence += token\n",
    "        else:\n",
    "            # General case for regular tokens\n",
    "            if sentence and sentence[-1] not in prev_no_space_tokens:\n",
    "                sentence += \" \"\n",
    "            sentence += token\n",
    "    \n",
    "    # Clean up spacing and return\n",
    "    return sentence.strip()\n",
    "\n",
    "# Example usage\n",
    "tokens = ['Yesterday', ',', 'I', 'had', 'a', 'wonderful', 'day', '.', 'In', 'the', 'morning', 'I', 'went', 'to', 'a', 'Galician', 'basketball', 'training', 'with', 'a', 'coach', 'of', 'Spanish', 'selection', ',', 'when', 'finished', 'went', 'to', 'my', 'parents', 'to', 'a', 'hotel', 'to', 'eat', 'and', 'stay', 'with', 'some', 'friends', ',', 'after', 'the', 'food', 'meet', 'with', 'friend', \"'s\", 'of', 'my', 'parents', 'and', 'went', 'to', 'a', 'theme', 'park', 'and', 'we', 'rode', 'to', 'a', 'rollers', 'coaster', ',', 'it', 'was', 'very', 'exciting', 'and', 'we', 'ate', 'a', 'chocolate', 'ice', 'cream', ',', 'it', 'was', 'delicious', '.', 'At', 'night', 'we', 'went', 'to', 'a', 'match', 'of', 'Spanish', 'basketball', 'league', ',', 'Obradoiro', 'versus', 'Real', 'Madrid', 'and', 'that', 'match', 'won', 'the', 'team', 'of', 'Real', 'Madrid', 'and', 'then', 'I', 'went', 'home', 'to', 'sleep', '.']\n",
    "sentence = detokenize(tokens)\n",
    "print(sentence)\n"
   ]
  },
  {
   "cell_type": "code",
   "execution_count": 3,
   "metadata": {},
   "outputs": [],
   "source": [
    "import pandas as pd\n",
    "all_ds = [examples_a3, examples_a4]\n",
    "all_names = [\"examples_a3\", \"examples_a4\"]\n",
    "tokens = set()\n",
    "import nltk\n",
    "from nltk.tokenize import TreebankWordTokenizer, TreebankWordDetokenizer\n",
    "detokenizer = TreebankWordDetokenizer()\n",
    "for ds, name in zip(all_ds, all_names):\n",
    "    before_statements = []\n",
    "    after_statements = []\n",
    "    corrections = []\n",
    "    for indexed_example in ds:\n",
    "        example = indexed_example[1]\n",
    "        before = example['src_tokens']\n",
    "        after = example['tgt_tokens']\n",
    "        correct = example['corrections']\n",
    "        # for token in before:\n",
    "        #     if len(token) < 4 and token not in tokens and (\"'\" in token or \".\" in token or \"-\" in token or \"-\" in token or \"*\" in token or '£' in token):\n",
    "        #         tokens.add(token)\n",
    "        #         print(token)\n",
    "        #         print(before)\n",
    "        #         print(detokenize(before))\n",
    "        before_statements.append(detokenizer.detokenize(before))\n",
    "        after_statements.append(detokenizer.detokenize(after))\n",
    "        corrections.append(correct)\n",
    "    data = {\n",
    "        \"Before Statements\": before_statements,\n",
    "        \"After Statements\": after_statements,\n",
    "        \"Error Correction\": corrections\n",
    "    }\n",
    "    df = pd.DataFrame(data)\n",
    "    df.to_csv(f\"../../csv_data/{name}.csv\", index = False)"
   ]
  },
  {
   "cell_type": "code",
   "execution_count": 2,
   "metadata": {},
   "outputs": [
    {
     "name": "stdout",
     "output_type": "stream",
     "text": [
      "/Users/frankli/Desktop/Yale Classes/Classes 2024/Ling/final/ling-final-project/wi+locness/m2\n"
     ]
    }
   ],
   "source": [
    "!pwd"
   ]
  },
  {
   "cell_type": "code",
   "execution_count": null,
   "metadata": {},
   "outputs": [],
   "source": []
  }
 ],
 "metadata": {
  "kernelspec": {
   "display_name": "final_env",
   "language": "python",
   "name": "python3"
  },
  "language_info": {
   "codemirror_mode": {
    "name": "ipython",
    "version": 3
   },
   "file_extension": ".py",
   "mimetype": "text/x-python",
   "name": "python",
   "nbconvert_exporter": "python",
   "pygments_lexer": "ipython3",
   "version": "3.12.4"
  }
 },
 "nbformat": 4,
 "nbformat_minor": 2
}
