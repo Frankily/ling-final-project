{
 "cells": [
  {
   "cell_type": "code",
   "execution_count": 3,
   "metadata": {},
   "outputs": [
    {
     "name": "stdout",
     "output_type": "stream",
     "text": [
      "['The', 'quick', 'brown', 'fox', 'jumps', 'over', 'the', 'lazy', 'dog.', 'Do', \"n't\", 'be', 'late', '!']\n"
     ]
    }
   ],
   "source": [
    "from nltk.tokenize import TreebankWordTokenizer\n",
    "\n",
    "\n",
    "text = \"The quick brown fox jumps over the lazy dog. Don't be late!\"\n",
    "\n",
    "tokenizer = TreebankWordTokenizer()\n",
    "\n",
    "tokens = tokenizer.tokenize(text)\n",
    "\n",
    "print(tokens) \n",
    "\n",
    "# Output: ['The', 'quick', 'brown', 'fox', 'jumps', 'over', 'the', 'lazy', 'dog', '.', 'Do', \"n't\", 'be', 'late', '!']\n"
   ]
  },
  {
   "cell_type": "code",
   "execution_count": 5,
   "metadata": {},
   "outputs": [
    {
     "name": "stderr",
     "output_type": "stream",
     "text": [
      "/var/folders/j6/0dk5bfq56wb9s0c2ht22_9rc0000gn/T/ipykernel_87679/1355386535.py:10: FutureWarning: Series.__getitem__ treating keys as positions is deprecated. In a future version, integer keys will always be treated as labels (consistent with DataFrame behavior). To access a value by position, use `ser.iloc[pos]`\n",
      "  generated = row[3]\n",
      "/var/folders/j6/0dk5bfq56wb9s0c2ht22_9rc0000gn/T/ipykernel_87679/1355386535.py:10: FutureWarning: Series.__getitem__ treating keys as positions is deprecated. In a future version, integer keys will always be treated as labels (consistent with DataFrame behavior). To access a value by position, use `ser.iloc[pos]`\n",
      "  generated = row[3]\n",
      "/var/folders/j6/0dk5bfq56wb9s0c2ht22_9rc0000gn/T/ipykernel_87679/1355386535.py:10: FutureWarning: Series.__getitem__ treating keys as positions is deprecated. In a future version, integer keys will always be treated as labels (consistent with DataFrame behavior). To access a value by position, use `ser.iloc[pos]`\n",
      "  generated = row[3]\n",
      "/var/folders/j6/0dk5bfq56wb9s0c2ht22_9rc0000gn/T/ipykernel_87679/1355386535.py:10: FutureWarning: Series.__getitem__ treating keys as positions is deprecated. In a future version, integer keys will always be treated as labels (consistent with DataFrame behavior). To access a value by position, use `ser.iloc[pos]`\n",
      "  generated = row[3]\n"
     ]
    }
   ],
   "source": [
    "import pandas as pd\n",
    "from nltk.tokenize import TreebankWordTokenizer\n",
    "tokenizer = TreebankWordTokenizer()\n",
    "\n",
    "df_names = ['base', 'finetuned', 'finetuned_all', 'base_prompt']\n",
    "for name in df_names:\n",
    "    tokenized_statements = []\n",
    "    df = pd.read_csv(f\"generated_outputs/{name}.csv\")\n",
    "    for i, row in df.iterrows():\n",
    "        generated = row[3]\n",
    "        tokens = tokenizer.tokenize(generated)\n",
    "        tokenized = ' '.join(tokens)\n",
    "        tokenized_statements.append(tokenized)\n",
    "    with open(f'evaluate_files/{name}.txt', 'w') as file:\n",
    "        for tokenized in tokenized_statements:\n",
    "            file.write(tokenized.strip() + '\\n')\n",
    "    "
   ]
  },
  {
   "cell_type": "code",
   "execution_count": null,
   "metadata": {},
   "outputs": [
    {
     "name": "stdout",
     "output_type": "stream",
     "text": [
      "^C\n",
      "Traceback (most recent call last):\n",
      "  File \"/Users/frankli/Desktop/Yale Classes/Classes 2024/Ling/final/m2scorer/scripts/m2scorer.py\", line 136, in <module>\n",
      "    p, r, f1 = levenshtein.batch_multi_pre_rec_f1(system_sentences, source_sentences, gold_edits, max_unchanged_words, beta, ignore_whitespace_casing, verbose, very_verbose)\n",
      "               ^^^^^^^^^^^^^^^^^^^^^^^^^^^^^^^^^^^^^^^^^^^^^^^^^^^^^^^^^^^^^^^^^^^^^^^^^^^^^^^^^^^^^^^^^^^^^^^^^^^^^^^^^^^^^^^^^^^^^^^^^^^^^^^^^^^^^^^^^^^^^^^^^^^^^^^^^^^^^^\n",
      "  File \"/Users/frankli/Desktop/Yale Classes/Classes 2024/Ling/final/m2scorer/scripts/levenshtein.py\", line 143, in batch_multi_pre_rec_f1\n",
      "    editSeq = best_edit_seq_bf(V, E, localdist, edits, very_verbose)\n",
      "              ^^^^^^^^^^^^^^^^^^^^^^^^^^^^^^^^^^^^^^^^^^^^^^^^^^^^^^\n",
      "  File \"/Users/frankli/Desktop/Yale Classes/Classes 2024/Ling/final/m2scorer/scripts/levenshtein.py\", line 449, in best_edit_seq_bf\n",
      "    if thisdist[v] + dist[edge] < thisdist[w]:\n",
      "       ^^^^^^^^^^^^^^^^^^^^^^^^^^^^^^^^^^^^^^\n",
      "KeyboardInterrupt\n"
     ]
    }
   ],
   "source": [
    "file_names = ['base', 'finetuned', 'finetuned_all', 'base_prompt']\n",
    "annotations = ['0', '1', 'combined']\n",
    "\n",
    "with open('results.txt', 'a') as file:\n",
    "    for name in file_names:\n",
    "        for ann in annotations:\n",
    "            file.write(f\"{name} model and {ann} annotation results:\\n\")\n",
    "            !python3 scripts/m2scorer.py evaluate_files/{name}.txt noalt/official.{ann}.m2 >> results.txt\n",
    "            file.write(\"\\n=====================\\n\")"
   ]
  },
  {
   "cell_type": "code",
   "execution_count": null,
   "metadata": {},
   "outputs": [],
   "source": []
  }
 ],
 "metadata": {
  "kernelspec": {
   "display_name": "final_env",
   "language": "python",
   "name": "python3"
  },
  "language_info": {
   "codemirror_mode": {
    "name": "ipython",
    "version": 3
   },
   "file_extension": ".py",
   "mimetype": "text/x-python",
   "name": "python",
   "nbconvert_exporter": "python",
   "pygments_lexer": "ipython3",
   "version": "3.12.4"
  }
 },
 "nbformat": 4,
 "nbformat_minor": 2
}
