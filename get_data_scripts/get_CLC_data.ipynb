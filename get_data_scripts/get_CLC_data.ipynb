{
 "cells": [
  {
   "cell_type": "code",
   "execution_count": null,
   "metadata": {},
   "outputs": [
    {
     "name": "stderr",
     "output_type": "stream",
     "text": [
      "Using the latest cached version of the dataset since matejklemen/clc_fce couldn't be found on the Hugging Face Hub\n",
      "Found the latest cached dataset configuration 'default' at /Users/frankli/.cache/huggingface/datasets/matejklemen___clc_fce/default/2.1.0/e4b0c1de4dc1e9c9ee9370c603c7010dcd255e3d (last modified on Thu Dec 12 17:00:08 2024).\n"
     ]
    }
   ],
   "source": [
    "from datasets import load_dataset\n",
    "\n",
    "ds = load_dataset(\"matejklemen/clc_fce\")"
   ]
  },
  {
   "cell_type": "code",
   "execution_count": 28,
   "metadata": {},
   "outputs": [
    {
     "name": "stdout",
     "output_type": "stream",
     "text": [
      "['src_tokens', 'tgt_tokens', 'corrections']\n"
     ]
    }
   ],
   "source": [
    "all_ds= [ds[\"train\"], ds[\"test\"], ds[\"validation\"]]\n",
    "print(all_ds[0].column_names)"
   ]
  },
  {
   "cell_type": "code",
   "execution_count": 35,
   "metadata": {},
   "outputs": [
    {
     "name": "stdout",
     "output_type": "stream",
     "text": [
      "I am writing in order to express my disappointment about your musical show \"Over the Rainbow\".\n"
     ]
    }
   ],
   "source": [
    "import re\n",
    "\n",
    "import re\n",
    "\n",
    "def detokenize(tokens):\n",
    "    sentence = \"\"\n",
    "    open_double_quote = True\n",
    "    open_single_quote = True\n",
    "    \n",
    "    for token in tokens:\n",
    "        if token == '\"':\n",
    "            if open_double_quote:\n",
    "                sentence += ' \"' if sentence and not sentence[-1].isspace() else '\"'\n",
    "                open_double_quote = False\n",
    "            else:\n",
    "                sentence = sentence.rstrip() + '\" '\n",
    "                open_double_quote = True\n",
    "        elif token == \"'\":\n",
    "            if open_single_quote:\n",
    "                sentence += \" '\" if sentence and not sentence[-1].isspace() else \"'\"\n",
    "                open_single_quote = False\n",
    "            else:\n",
    "                sentence = sentence.rstrip() + \"' \"\n",
    "                open_single_quote = True\n",
    "        elif token in {\".\", \",\", \"!\", \"?\", \":\", \";\", \"-\"}:\n",
    "            if sentence and sentence[-1] == ' ':\n",
    "                sentence = sentence[:-1]\n",
    "            sentence += token\n",
    "        elif token in {\")\", \"]\", \"}\"}:\n",
    "            sentence = sentence.rstrip() + token\n",
    "        elif token in {\"(\", \"[\", \"{\"}:\n",
    "            sentence += token\n",
    "        else:\n",
    "            no_space_tokens = [\"'s\", \"n't\", \"'S\", \"'m\", \"'ll\", \"'ve\", \"'d\", \"'re\", \"--\", \".-\"]\n",
    "            prev_no_space_tokens = [\"'\", \"$\", \"-\", '\"', '\"', ' ', '£']\n",
    "            if sentence and sentence[-1] not in prev_no_space_tokens and token not in no_space_tokens:\n",
    "                sentence += \" \"\n",
    "            sentence += token\n",
    "    return sentence\n",
    "\n",
    "# Example usage\n",
    "tokens = [\n",
    "    \"I\", \"am\", \"writing\", \"in\", \"order\", \"to\", \"express\", \"my\", \n",
    "    \"disappointment\", \"about\", \"your\", \"musical\", \"show\", \"\\\"\", \n",
    "    \"Over\", \"the\", \"Rainbow\", \"\\\"\", \".\"\n",
    "]\n",
    "sentence = detokenize(tokens)\n",
    "print(sentence)"
   ]
  },
  {
   "cell_type": "code",
   "execution_count": 37,
   "metadata": {},
   "outputs": [],
   "source": [
    "import pandas as pd\n",
    "before_statements = []\n",
    "after_statements = []\n",
    "corrections = []\n",
    "tokens = set()\n",
    "for ds in all_ds:\n",
    "    for example in ds:\n",
    "        before = example['src_tokens']\n",
    "        after = example['tgt_tokens']\n",
    "        correct = example['corrections']\n",
    "        # for token in before:\n",
    "        #     if len(token) < 4 and token not in tokens and (\"'\" in token or \".\" in token or \"-\" in token or \"-\" in token or \"*\" in token or '£' in token):\n",
    "        #         tokens.add(token)\n",
    "        #         print(token)\n",
    "        #         print(before)\n",
    "        #         print(detokenize(before))\n",
    "        before_statements.append(detokenize(before))\n",
    "        after_statements.append(detokenize(after))\n",
    "        corrections.append(correct)\n",
    "tokens = list(tokens)\n",
    "for token in tokens:\n",
    "    print(token)"
   ]
  },
  {
   "cell_type": "code",
   "execution_count": 38,
   "metadata": {},
   "outputs": [],
   "source": [
    "data = {\n",
    "    \"Before Statements\": before_statements,\n",
    "    \"After Statements\": after_statements,\n",
    "    \"Error Correction\": corrections\n",
    "}\n",
    "df = pd.DataFrame(data)\n",
    "df.to_csv(\"CLC_FCE.csv\", index = False)"
   ]
  },
  {
   "cell_type": "code",
   "execution_count": 1,
   "metadata": {},
   "outputs": [
    {
     "name": "stderr",
     "output_type": "stream",
     "text": [
      "/Users/frankli/miniconda3/envs/final_env/lib/python3.12/site-packages/tqdm/auto.py:21: TqdmWarning: IProgress not found. Please update jupyter and ipywidgets. See https://ipywidgets.readthedocs.io/en/stable/user_install.html\n",
      "  from .autonotebook import tqdm as notebook_tqdm\n",
      "Generating train split: 100%|██████████| 610053/610053 [00:00<00:00, 3397128.47 examples/s]\n"
     ]
    }
   ],
   "source": [
    "from datasets import load_dataset\n",
    "dataset = load_dataset(\"MohamedAshraf701/lang-8\")"
   ]
  },
  {
   "cell_type": "code",
   "execution_count": null,
   "metadata": {},
   "outputs": [],
   "source": [
    "ds = dataset['train']"
   ]
  },
  {
   "cell_type": "code",
   "execution_count": 4,
   "metadata": {},
   "outputs": [],
   "source": [
    "inputs = ds['processed_input']\n",
    "outputs = ds['processed_output']"
   ]
  },
  {
   "cell_type": "code",
   "execution_count": 8,
   "metadata": {},
   "outputs": [],
   "source": [
    "import json\n",
    "output_file = \"/Users/frankli/Desktop/Yale Classes/Classes 2024/Ling/final/ling-final-project/llm-finetuning/data/lang8.jsonl\"\n",
    "with open(output_file, 'w', encoding='utf-8') as f:\n",
    "    for input, output in zip(inputs, outputs):\n",
    "        example = {\"input\": input, \"output\": output, \"correction\": []}\n",
    "        f.write(json.dumps(example, ensure_ascii=False) + '\\n')\n",
    "    \n",
    "    "
   ]
  },
  {
   "cell_type": "code",
   "execution_count": null,
   "metadata": {},
   "outputs": [],
   "source": []
  }
 ],
 "metadata": {
  "kernelspec": {
   "display_name": "final_env",
   "language": "python",
   "name": "python3"
  },
  "language_info": {
   "codemirror_mode": {
    "name": "ipython",
    "version": 3
   },
   "file_extension": ".py",
   "mimetype": "text/x-python",
   "name": "python",
   "nbconvert_exporter": "python",
   "pygments_lexer": "ipython3",
   "version": "3.12.4"
  }
 },
 "nbformat": 4,
 "nbformat_minor": 2
}
