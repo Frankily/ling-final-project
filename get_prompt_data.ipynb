{
 "cells": [
  {
   "cell_type": "code",
   "execution_count": 1,
   "metadata": {},
   "outputs": [],
   "source": [
    "import pandas as pd\n",
    "all_names = [\"CLC_FCE\", \"examples_conll14st\"]\n"
   ]
  },
  {
   "cell_type": "code",
   "execution_count": 2,
   "metadata": {},
   "outputs": [],
   "source": [
    "before_statements = []\n",
    "after_statements = []\n",
    "error_statements = []"
   ]
  },
  {
   "cell_type": "code",
   "execution_count": 4,
   "metadata": {},
   "outputs": [
    {
     "name": "stderr",
     "output_type": "stream",
     "text": [
      "/var/folders/j6/0dk5bfq56wb9s0c2ht22_9rc0000gn/T/ipykernel_16683/4256940457.py:4: FutureWarning: Series.__getitem__ treating keys as positions is deprecated. In a future version, integer keys will always be treated as labels (consistent with DataFrame behavior). To access a value by position, use `ser.iloc[pos]`\n",
      "  before_statements.append(row[0])\n",
      "/var/folders/j6/0dk5bfq56wb9s0c2ht22_9rc0000gn/T/ipykernel_16683/4256940457.py:5: FutureWarning: Series.__getitem__ treating keys as positions is deprecated. In a future version, integer keys will always be treated as labels (consistent with DataFrame behavior). To access a value by position, use `ser.iloc[pos]`\n",
      "  after_statements.append(row[1])\n",
      "/var/folders/j6/0dk5bfq56wb9s0c2ht22_9rc0000gn/T/ipykernel_16683/4256940457.py:6: FutureWarning: Series.__getitem__ treating keys as positions is deprecated. In a future version, integer keys will always be treated as labels (consistent with DataFrame behavior). To access a value by position, use `ser.iloc[pos]`\n",
      "  error_statements.append(row[2])\n",
      "/var/folders/j6/0dk5bfq56wb9s0c2ht22_9rc0000gn/T/ipykernel_16683/4256940457.py:4: FutureWarning: Series.__getitem__ treating keys as positions is deprecated. In a future version, integer keys will always be treated as labels (consistent with DataFrame behavior). To access a value by position, use `ser.iloc[pos]`\n",
      "  before_statements.append(row[0])\n",
      "/var/folders/j6/0dk5bfq56wb9s0c2ht22_9rc0000gn/T/ipykernel_16683/4256940457.py:5: FutureWarning: Series.__getitem__ treating keys as positions is deprecated. In a future version, integer keys will always be treated as labels (consistent with DataFrame behavior). To access a value by position, use `ser.iloc[pos]`\n",
      "  after_statements.append(row[1])\n",
      "/var/folders/j6/0dk5bfq56wb9s0c2ht22_9rc0000gn/T/ipykernel_16683/4256940457.py:6: FutureWarning: Series.__getitem__ treating keys as positions is deprecated. In a future version, integer keys will always be treated as labels (consistent with DataFrame behavior). To access a value by position, use `ser.iloc[pos]`\n",
      "  error_statements.append(row[2])\n"
     ]
    },
    {
     "name": "stdout",
     "output_type": "stream",
     "text": [
      "90387 90387 90387\n"
     ]
    }
   ],
   "source": [
    "for name in all_names:\n",
    "    df = pd.read_csv(f\"{name}.csv\")\n",
    "    for i, row in df.iterrows():\n",
    "        before_statements.append(row[0])\n",
    "        after_statements.append(row[1])\n",
    "        error_statements.append(row[2])\n",
    "print(len(before_statements), len(after_statements), len(error_statements))"
   ]
  },
  {
   "cell_type": "code",
   "execution_count": null,
   "metadata": {},
   "outputs": [],
   "source": [
    "prompt = \"Fix all mistakes in the text (spelling, punctuation, grammar, etc) and respond with the correct version of the text free of all such mistakes. If there are no errors, respond with the original text.\""
   ]
  },
  {
   "cell_type": "code",
   "execution_count": null,
   "metadata": {},
   "outputs": [],
   "source": []
  }
 ],
 "metadata": {
  "kernelspec": {
   "display_name": "final_env",
   "language": "python",
   "name": "python3"
  },
  "language_info": {
   "codemirror_mode": {
    "name": "ipython",
    "version": 3
   },
   "file_extension": ".py",
   "mimetype": "text/x-python",
   "name": "python",
   "nbconvert_exporter": "python",
   "pygments_lexer": "ipython3",
   "version": "3.12.4"
  }
 },
 "nbformat": 4,
 "nbformat_minor": 2
}
